{
 "cells": [
  {
   "cell_type": "code",
   "execution_count": 4,
   "metadata": {},
   "outputs": [],
   "source": [
    "# importing libraries and software\n",
    "import pandas as pd\n",
    "import numpy as np\n",
    "from sklearn.linear_model import LinearRegression"
   ]
  },
  {
   "cell_type": "code",
   "execution_count": 9,
   "metadata": {},
   "outputs": [
    {
     "data": {
      "text/html": [
       "<div>\n",
       "<style scoped>\n",
       "    .dataframe tbody tr th:only-of-type {\n",
       "        vertical-align: middle;\n",
       "    }\n",
       "\n",
       "    .dataframe tbody tr th {\n",
       "        vertical-align: top;\n",
       "    }\n",
       "\n",
       "    .dataframe thead th {\n",
       "        text-align: right;\n",
       "    }\n",
       "</style>\n",
       "<table border=\"1\" class=\"dataframe\">\n",
       "  <thead>\n",
       "    <tr style=\"text-align: right;\">\n",
       "      <th></th>\n",
       "      <th>UnitId</th>\n",
       "      <th>TrustedJudgement</th>\n",
       "      <th>Response</th>\n",
       "      <th>ConfidenceScore</th>\n",
       "      <th>Image</th>\n",
       "      <th>Phrase</th>\n",
       "    </tr>\n",
       "  </thead>\n",
       "  <tbody>\n",
       "    <tr>\n",
       "      <th>0</th>\n",
       "      <td>110494178</td>\n",
       "      <td>4</td>\n",
       "      <td>No</td>\n",
       "      <td>0.5243</td>\n",
       "      <td>http://clic.cimec.unitn.it/~elia.bruni/crowdfl...</td>\n",
       "      <td>disneyland</td>\n",
       "    </tr>\n",
       "    <tr>\n",
       "      <th>1</th>\n",
       "      <td>110494179</td>\n",
       "      <td>3</td>\n",
       "      <td>No</td>\n",
       "      <td>1.0000</td>\n",
       "      <td>http://clic.cimec.unitn.it/~elia.bruni/crowdfl...</td>\n",
       "      <td>challenger</td>\n",
       "    </tr>\n",
       "    <tr>\n",
       "      <th>2</th>\n",
       "      <td>110494180</td>\n",
       "      <td>139</td>\n",
       "      <td>Yes</td>\n",
       "      <td>1.0000</td>\n",
       "      <td>http://clic.cimec.unitn.it/~elia.bruni/crowdfl...</td>\n",
       "      <td>blue</td>\n",
       "    </tr>\n",
       "    <tr>\n",
       "      <th>3</th>\n",
       "      <td>110494181</td>\n",
       "      <td>3</td>\n",
       "      <td>No</td>\n",
       "      <td>1.0000</td>\n",
       "      <td>http://clic.cimec.unitn.it/~elia.bruni/crowdfl...</td>\n",
       "      <td>schoodicpeninsula</td>\n",
       "    </tr>\n",
       "    <tr>\n",
       "      <th>4</th>\n",
       "      <td>110494182</td>\n",
       "      <td>45</td>\n",
       "      <td>No</td>\n",
       "      <td>0.9316</td>\n",
       "      <td>http://clic.cimec.unitn.it/~elia.bruni/crowdfl...</td>\n",
       "      <td>macromarvels</td>\n",
       "    </tr>\n",
       "  </tbody>\n",
       "</table>\n",
       "</div>"
      ],
      "text/plain": [
       "     UnitId   TrustedJudgement Response  ConfidenceScore   \\\n",
       "0  110494178                 4       No            0.5243   \n",
       "1  110494179                 3       No            1.0000   \n",
       "2  110494180               139      Yes            1.0000   \n",
       "3  110494181                 3       No            1.0000   \n",
       "4  110494182                45       No            0.9316   \n",
       "\n",
       "                                               Image             Phrase  \n",
       "0  http://clic.cimec.unitn.it/~elia.bruni/crowdfl...         disneyland  \n",
       "1  http://clic.cimec.unitn.it/~elia.bruni/crowdfl...         challenger  \n",
       "2  http://clic.cimec.unitn.it/~elia.bruni/crowdfl...               blue  \n",
       "3  http://clic.cimec.unitn.it/~elia.bruni/crowdfl...  schoodicpeninsula  \n",
       "4  http://clic.cimec.unitn.it/~elia.bruni/crowdfl...       macromarvels  "
      ]
     },
     "execution_count": 9,
     "metadata": {},
     "output_type": "execute_result"
    }
   ],
   "source": [
    "# loading the data\n",
    "model1 = pd.read_csv('image-descriptions-DFE5.csv',header=0)\n",
    "model1.head()"
   ]
  },
  {
   "cell_type": "code",
   "execution_count": null,
   "metadata": {},
   "outputs": [],
   "source": []
  },
  {
   "cell_type": "code",
   "execution_count": null,
   "metadata": {},
   "outputs": [],
   "source": []
  },
  {
   "cell_type": "code",
   "execution_count": null,
   "metadata": {},
   "outputs": [],
   "source": []
  },
  {
   "cell_type": "code",
   "execution_count": null,
   "metadata": {},
   "outputs": [],
   "source": []
  },
  {
   "cell_type": "code",
   "execution_count": null,
   "metadata": {},
   "outputs": [],
   "source": []
  }
 ],
 "metadata": {
  "kernelspec": {
   "display_name": "Python 3",
   "language": "python",
   "name": "python3"
  },
  "language_info": {
   "codemirror_mode": {
    "name": "ipython",
    "version": 3
   },
   "file_extension": ".py",
   "mimetype": "text/x-python",
   "name": "python",
   "nbconvert_exporter": "python",
   "pygments_lexer": "ipython3",
   "version": "3.7.6"
  }
 },
 "nbformat": 4,
 "nbformat_minor": 4
}
